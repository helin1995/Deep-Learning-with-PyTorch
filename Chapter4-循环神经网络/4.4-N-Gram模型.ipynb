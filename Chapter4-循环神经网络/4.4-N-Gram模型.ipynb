{
 "cells": [
  {
   "cell_type": "code",
   "execution_count": 1,
   "metadata": {},
   "outputs": [],
   "source": [
    "CONTEXT_SIZE = 2    # 依据的单词数\n",
    "EMBEDDING_DIM = 10  # 词向量的维度\n",
    "# 我们使用莎士比亚的诗\n",
    "test_sentence = \"\"\"When forty winters shall besiege thy brow,\n",
    "And dig deep trenches in thy beauty's field,\n",
    "Thy youth's proud livery so gazed on now,\n",
    "Will be a totter'd weed of small worth held:\n",
    "Then being asked, where all thy beauty lies,\n",
    "Where all the treasure of thy lusty days;\n",
    "To say, within thine own deep sunken eyes,\n",
    "Were an all-eating shame, and thriftless praise.\n",
    "How much more praise deserv'd thy beauty's use,\n",
    "If thou couldst answer 'This fair child of mine\n",
    "Shall sum my count, and make my old excuse,'\n",
    "Proving his beauty by succession thine!\n",
    "This were to be new made when thou art old,\n",
    "And see thy blood warm when thou feel'st it cold.\"\"\".split()"
   ]
  },
  {
   "cell_type": "code",
   "execution_count": 2,
   "metadata": {},
   "outputs": [],
   "source": [
    "# 构建训练集\n",
    "trigram = [((test_sentence[i], test_sentence[i+1]), test_sentence[i+2]) \n",
    "            for i in range(len(test_sentence)-2)]"
   ]
  },
  {
   "cell_type": "code",
   "execution_count": 3,
   "metadata": {},
   "outputs": [
    {
     "data": {
      "text/plain": [
       "113"
      ]
     },
     "execution_count": 3,
     "metadata": {},
     "output_type": "execute_result"
    }
   ],
   "source": [
    "# 总的数据量\n",
    "len(trigram)"
   ]
  },
  {
   "cell_type": "code",
   "execution_count": 4,
   "metadata": {},
   "outputs": [
    {
     "data": {
      "text/plain": [
       "(('When', 'forty'), 'winters')"
      ]
     },
     "execution_count": 4,
     "metadata": {},
     "output_type": "execute_result"
    }
   ],
   "source": [
    "# 取出第一个数据看看\n",
    "trigram[0]"
   ]
  },
  {
   "cell_type": "code",
   "execution_count": 5,
   "metadata": {},
   "outputs": [],
   "source": [
    "# 建立每个词与数字的编码（字典），据此构建词嵌入\n",
    "vocb = set(test_sentence)  # 使用 set 将重复的元素去掉\n",
    "word_to_idx = {word: i for i, word in enumerate(vocb)}\n",
    "idx_to_word = {word_to_idx[word]: word for word in word_to_idx}"
   ]
  },
  {
   "cell_type": "code",
   "execution_count": 6,
   "metadata": {},
   "outputs": [
    {
     "data": {
      "text/plain": [
       "{'where': 0,\n",
       " 'forty': 1,\n",
       " 'of': 2,\n",
       " 'And': 3,\n",
       " 'old,': 4,\n",
       " 'the': 5,\n",
       " 'Were': 6,\n",
       " 'proud': 7,\n",
       " \"'This\": 8,\n",
       " 'so': 9,\n",
       " 'Then': 10,\n",
       " 'cold.': 11,\n",
       " 'gazed': 12,\n",
       " 'treasure': 13,\n",
       " 'sunken': 14,\n",
       " 'be': 15,\n",
       " 'on': 16,\n",
       " 'How': 17,\n",
       " 'This': 18,\n",
       " 'field,': 19,\n",
       " 'answer': 20,\n",
       " 'dig': 21,\n",
       " 'child': 22,\n",
       " 'all': 23,\n",
       " 'more': 24,\n",
       " 'Proving': 25,\n",
       " 'it': 26,\n",
       " 'small': 27,\n",
       " 'praise': 28,\n",
       " 'all-eating': 29,\n",
       " 'couldst': 30,\n",
       " 'succession': 31,\n",
       " 'in': 32,\n",
       " 'see': 33,\n",
       " 'If': 34,\n",
       " 'warm': 35,\n",
       " 'asked,': 36,\n",
       " 'days;': 37,\n",
       " 'thou': 38,\n",
       " 'now,': 39,\n",
       " 'and': 40,\n",
       " 'his': 41,\n",
       " 'lusty': 42,\n",
       " \"deserv'd\": 43,\n",
       " 'old': 44,\n",
       " \"beauty's\": 45,\n",
       " 'winters': 46,\n",
       " 'Will': 47,\n",
       " 'use,': 48,\n",
       " \"excuse,'\": 49,\n",
       " \"youth's\": 50,\n",
       " 'much': 51,\n",
       " 'worth': 52,\n",
       " 'my': 53,\n",
       " 'Thy': 54,\n",
       " 'thine!': 55,\n",
       " 'weed': 56,\n",
       " 'Shall': 57,\n",
       " 'besiege': 58,\n",
       " 'beauty': 59,\n",
       " 'mine': 60,\n",
       " 'being': 61,\n",
       " 'held:': 62,\n",
       " 'new': 63,\n",
       " 'when': 64,\n",
       " \"feel'st\": 65,\n",
       " 'fair': 66,\n",
       " 'a': 67,\n",
       " 'own': 68,\n",
       " 'sum': 69,\n",
       " 'trenches': 70,\n",
       " 'lies,': 71,\n",
       " 'within': 72,\n",
       " 'were': 73,\n",
       " 'thy': 74,\n",
       " 'blood': 75,\n",
       " 'thriftless': 76,\n",
       " 'livery': 77,\n",
       " 'To': 78,\n",
       " 'Where': 79,\n",
       " 'deep': 80,\n",
       " 'count,': 81,\n",
       " 'an': 82,\n",
       " \"totter'd\": 83,\n",
       " 'brow,': 84,\n",
       " 'praise.': 85,\n",
       " 'When': 86,\n",
       " 'say,': 87,\n",
       " 'by': 88,\n",
       " 'eyes,': 89,\n",
       " 'art': 90,\n",
       " 'made': 91,\n",
       " 'to': 92,\n",
       " 'shall': 93,\n",
       " 'make': 94,\n",
       " 'thine': 95,\n",
       " 'shame,': 96}"
      ]
     },
     "execution_count": 6,
     "metadata": {},
     "output_type": "execute_result"
    }
   ],
   "source": [
    "word_to_idx"
   ]
  },
  {
   "cell_type": "code",
   "execution_count": 7,
   "metadata": {},
   "outputs": [],
   "source": [
    "import torch\n",
    "from torch import nn\n",
    "from torch.autograd import Variable"
   ]
  },
  {
   "cell_type": "code",
   "execution_count": 8,
   "metadata": {},
   "outputs": [],
   "source": [
    "class n_gram(nn.Module):\n",
    "    def __init__(self, vocab_size, embedding_size, context_size):\n",
    "        super(n_gram, self).__init__()\n",
    "        self.embedding = nn.Embedding(vocab_size, embedding_size)\n",
    "        self.fc = nn.Sequential(\n",
    "                  nn.Linear(context_size * embedding_size, 128),\n",
    "                  nn.ReLU(),\n",
    "                  nn.Linear(128, vocab_size))\n",
    "    \n",
    "    def forward(self, x):\n",
    "        embed = self.embedding(x)\n",
    "        out = self.fc(embed.view(1, -1))\n",
    "        return out"
   ]
  },
  {
   "cell_type": "code",
   "execution_count": 9,
   "metadata": {},
   "outputs": [],
   "source": [
    "net = n_gram(len(vocb), EMBEDDING_DIM, CONTEXT_SIZE)\n",
    "criterion = nn.CrossEntropyLoss()\n",
    "optimizer = torch.optim.SGD(net.parameters(), lr=0.1)"
   ]
  },
  {
   "cell_type": "code",
   "execution_count": 10,
   "metadata": {},
   "outputs": [
    {
     "name": "stdout",
     "output_type": "stream",
     "text": [
      "epoch:  1, train loss: 4.8617\n",
      "epoch:  2, train loss: 3.5266\n",
      "epoch:  3, train loss: 2.1766\n",
      "epoch:  4, train loss: 0.9823\n",
      "epoch:  5, train loss: 0.4030\n",
      "epoch:  6, train loss: 0.1698\n",
      "epoch:  7, train loss: 0.1136\n",
      "epoch:  8, train loss: 0.0984\n",
      "epoch:  9, train loss: 0.0874\n",
      "epoch: 10, train loss: 0.0806\n"
     ]
    }
   ],
   "source": [
    "Epochs = 10\n",
    "for epoch in range(Epochs):\n",
    "    train_loss = 0.\n",
    "    for words, label in trigram:\n",
    "        words = Variable(torch.LongTensor([word_to_idx[word] for word in words]))\n",
    "        label = Variable(torch.LongTensor([word_to_idx[label]]))\n",
    "        y_ = net(words)\n",
    "        loss = criterion(y_, label)\n",
    "        train_loss += loss.detach().item()\n",
    "        \n",
    "        optimizer.zero_grad()\n",
    "        loss.backward()\n",
    "        optimizer.step()\n",
    "        \n",
    "    train_loss /= len(trigram)\n",
    "    print('epoch: {:2d}, train loss: {:.4f}'.format(epoch + 1, train_loss))"
   ]
  },
  {
   "cell_type": "code",
   "execution_count": 11,
   "metadata": {},
   "outputs": [
    {
     "name": "stdout",
     "output_type": "stream",
     "text": [
      "input words are: ('Shall', 'sum'), the real word is: my\n",
      "predicted word is: my\n"
     ]
    }
   ],
   "source": [
    "# 测试一下\n",
    "net.eval()\n",
    "words, label = trigram[80]\n",
    "print('input words are: {}, the real word is: {}'.format(words, label))\n",
    "index = Variable(torch.LongTensor([word_to_idx[word] for word in words]))\n",
    "y_pred = net(index)\n",
    "_, out = y_pred.max(1)\n",
    "out = out.item()\n",
    "real_word = idx_to_word[out]\n",
    "print('predicted word is: {}'.format(real_word))"
   ]
  },
  {
   "cell_type": "code",
   "execution_count": null,
   "metadata": {},
   "outputs": [],
   "source": []
  }
 ],
 "metadata": {
  "kernelspec": {
   "display_name": "Python 3",
   "language": "python",
   "name": "python3"
  },
  "language_info": {
   "codemirror_mode": {
    "name": "ipython",
    "version": 3
   },
   "file_extension": ".py",
   "mimetype": "text/x-python",
   "name": "python",
   "nbconvert_exporter": "python",
   "pygments_lexer": "ipython3",
   "version": "3.7.3"
  }
 },
 "nbformat": 4,
 "nbformat_minor": 2
}
