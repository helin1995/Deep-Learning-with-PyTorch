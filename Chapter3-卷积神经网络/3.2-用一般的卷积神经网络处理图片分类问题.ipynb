{
 "cells": [
  {
   "cell_type": "code",
   "execution_count": 1,
   "metadata": {},
   "outputs": [],
   "source": [
    "import torch\n",
    "import numpy as np\n",
    "from torch import nn\n",
    "from torch.autograd import Variable\n",
    "from torchvision.datasets import mnist  # 导入PyTorch中内置的mnist数据集"
   ]
  },
  {
   "cell_type": "code",
   "execution_count": 2,
   "metadata": {},
   "outputs": [],
   "source": [
    "# 数据标准化，直接采用参考文档代码\n",
    "def data_tf(x):\n",
    "    x = np.array(x, dtype='float32') / 255\n",
    "    x = (x - 0.5) / 0.5      # 标准化，这个技巧之后会讲到\n",
    "    # x = x.reshape((-1,))   # 拉平\n",
    "    x = torch.from_numpy(x)  # 将numpy数组转换为tensor\n",
    "    x = x.unsqueeze(0)       # 增加channel，设置为1。图片的大小为：(1, 28, 28)\n",
    "    return x\n",
    "# 重新加载数据集，申明定义的数据变换\n",
    "train_set = mnist.MNIST('./data', train=True, transform=data_tf, download=True)\n",
    "test_set = mnist.MNIST('./data', train=False, transform=data_tf, download=True)"
   ]
  },
  {
   "cell_type": "code",
   "execution_count": 3,
   "metadata": {},
   "outputs": [
    {
     "data": {
      "text/plain": [
       "torch.Size([1, 28, 28])"
      ]
     },
     "execution_count": 3,
     "metadata": {},
     "output_type": "execute_result"
    }
   ],
   "source": [
    "img, label = train_set[0]\n",
    "img.shape"
   ]
  },
  {
   "cell_type": "code",
   "execution_count": 4,
   "metadata": {},
   "outputs": [],
   "source": [
    "from torch.utils.data import DataLoader\n",
    "train_data = DataLoader(train_set, batch_size=64, shuffle=True)\n",
    "test_data = DataLoader(test_set, batch_size=128, shuffle=False)"
   ]
  },
  {
   "cell_type": "code",
   "execution_count": 5,
   "metadata": {},
   "outputs": [],
   "source": [
    "image, label = next(iter(train_data))"
   ]
  },
  {
   "cell_type": "code",
   "execution_count": 6,
   "metadata": {},
   "outputs": [
    {
     "data": {
      "text/plain": [
       "torch.Size([64, 1, 28, 28])"
      ]
     },
     "execution_count": 6,
     "metadata": {},
     "output_type": "execute_result"
    }
   ],
   "source": [
    "image.shape"
   ]
  },
  {
   "cell_type": "code",
   "execution_count": 7,
   "metadata": {},
   "outputs": [],
   "source": [
    "class CNN(nn.Module):\n",
    "    def __init__(self):\n",
    "        super(CNN, self).__init__()\n",
    "        # 第一层：数据输入是：(batch, 1, 28, 28)，经过卷积，第一层的输出则是：(batch, 25, 26, 26)\n",
    "        self.layer1 = nn.Sequential(\n",
    "                      nn.Conv2d(1, 25, 3),\n",
    "                      nn.ReLU())\n",
    "        # 第二层是池化层，池化窗口大小为(2, 2)，数据输入是：(batch, 25, 26, 26)，经过池化，第二层的输出则是：(batch, 25, 13, 13)\n",
    "        # 第三层：数据输入是：(batch, 25, 13, 13)，经过卷积，第三层的输出则是：(batch, 50, 11, 11)\n",
    "        self.layer3 = nn.Sequential(\n",
    "                      nn.Conv2d(25, 50, 3),\n",
    "                      nn.ReLU())\n",
    "        # 第四层是池化层，池化窗口大小为(2, 2)，数据输入是：(batch, 50, 11, 11)，经过池化，第四层的输出则是：(batch, 50, 5, 5)\n",
    "        # 最后是线性层，共两层：\n",
    "        self.fc = nn.Sequential(\n",
    "                      nn.Linear(50 * 5 * 5, 1024),\n",
    "                      nn.ReLU(),\n",
    "                      nn.Linear(1024, 128),\n",
    "                      nn.ReLU(),\n",
    "                      nn.Linear(128, 10))\n",
    "        self.pool = nn.MaxPool2d(2, 2)\n",
    "    def forward(self, x):\n",
    "        out = self.layer1(x)\n",
    "        out = self.pool(out)\n",
    "        out = self.layer3(out)\n",
    "        out = self.pool(out)\n",
    "        out = out.view(out.shape[0], -1)  # 将图片拉伸（展平），变成向量，向量的大小为 50 X 5 X 5，out.shape[0]等于batch\n",
    "        out = self.fc(out)\n",
    "        return out"
   ]
  },
  {
   "cell_type": "code",
   "execution_count": 8,
   "metadata": {},
   "outputs": [],
   "source": [
    "net = CNN()\n",
    "criterion = nn.CrossEntropyLoss()\n",
    "optimizer = torch.optim.SGD(net.parameters(), lr=0.1)"
   ]
  },
  {
   "cell_type": "code",
   "execution_count": 9,
   "metadata": {},
   "outputs": [
    {
     "name": "stdout",
     "output_type": "stream",
     "text": [
      "epoch:  1, train loss: 0.2846, train acc: 0.9095, test loss: 0.0549, test acc: 0.9816\n",
      "epoch:  2, train loss: 0.0540, train acc: 0.9831, test loss: 0.0650, test acc: 0.9778\n",
      "epoch:  3, train loss: 0.0356, train acc: 0.9888, test loss: 0.0324, test acc: 0.9880\n",
      "epoch:  4, train loss: 0.0260, train acc: 0.9920, test loss: 0.0319, test acc: 0.9895\n",
      "epoch:  5, train loss: 0.0197, train acc: 0.9938, test loss: 0.0281, test acc: 0.9906\n"
     ]
    }
   ],
   "source": [
    "# 训练模型\n",
    "Epochs = 5\n",
    "for epoch in range(Epochs):\n",
    "    loss_sum = 0\n",
    "    acc_sum = 0\n",
    "    for image, label in train_data:\n",
    "        image = Variable(image)\n",
    "        label = Variable(label)\n",
    "        # 前向传播\n",
    "        y_pred = net(image)\n",
    "        loss = criterion(y_pred, label)\n",
    "        # 反向传播\n",
    "        optimizer.zero_grad()\n",
    "        loss.backward()\n",
    "        optimizer.step()\n",
    "        \n",
    "        loss_sum += loss.data.item()\n",
    "        _, out = y_pred.max(1)                     # 返回每一行最大值对应的下标，就是图片的预测值\n",
    "        num_correct = (out == label).sum().item()  # 统计预测正确的数量\n",
    "        acc = num_correct / image.shape[0]         # 得到这一个batch的平均准确率\n",
    "        acc_sum += acc\n",
    "    ave_train_loss = loss_sum / len(train_data)\n",
    "    ave_train_acc = acc_sum / len(train_data)\n",
    "    loss_sum = 0\n",
    "    acc_sum = 0\n",
    "    # 在测试集上检验效果\n",
    "    net.eval()  # 将模型改为预测模式，eval（）时，pytorch会自动把BN和DropOut固定住，不会取平均，而是用训练好的值。\n",
    "    for image, label in test_data:\n",
    "        image = Variable(image)\n",
    "        label = Variable(label)\n",
    "        y_pred = net(image)\n",
    "        loss = criterion(y_pred, label)\n",
    "        loss_sum += loss.data.item()\n",
    "        _, out = y_pred.max(1)\n",
    "        num_correct = (out == label).sum().item()\n",
    "        acc = num_correct / image.shape[0]\n",
    "        acc_sum += acc\n",
    "    ave_test_loss = loss_sum / len(test_data)\n",
    "    ave_test_acc = acc_sum / len(test_data)\n",
    "    print('epoch: {:2d}, train loss: {:.4f}, train acc: {:.4f}, test loss: {:.4f}, test acc: {:.4f}'.format(epoch + 1, ave_train_loss, ave_train_acc, ave_test_loss, ave_test_acc))"
   ]
  },
  {
   "cell_type": "code",
   "execution_count": null,
   "metadata": {},
   "outputs": [],
   "source": []
  }
 ],
 "metadata": {
  "kernelspec": {
   "display_name": "Python 3",
   "language": "python",
   "name": "python3"
  },
  "language_info": {
   "codemirror_mode": {
    "name": "ipython",
    "version": 3
   },
   "file_extension": ".py",
   "mimetype": "text/x-python",
   "name": "python",
   "nbconvert_exporter": "python",
   "pygments_lexer": "ipython3",
   "version": "3.7.3"
  }
 },
 "nbformat": 4,
 "nbformat_minor": 2
}
