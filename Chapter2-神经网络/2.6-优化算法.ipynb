{
 "cells": [
  {
   "cell_type": "raw",
   "metadata": {},
   "source": [
    "优化算法：\n",
    "1、SGD\n",
    "2、Momentum\n",
    "3、Adagrad\n",
    "4、RMSProp\n",
    "5、Adadelta\n",
    "6、Adam\n",
    "每个优化算法的推导细节暂时没写"
   ]
  },
  {
   "cell_type": "code",
   "execution_count": null,
   "metadata": {},
   "outputs": [],
   "source": []
  }
 ],
 "metadata": {
  "kernelspec": {
   "display_name": "Python 3",
   "language": "python",
   "name": "python3"
  },
  "language_info": {
   "codemirror_mode": {
    "name": "ipython",
    "version": 3
   },
   "file_extension": ".py",
   "mimetype": "text/x-python",
   "name": "python",
   "nbconvert_exporter": "python",
   "pygments_lexer": "ipython3",
   "version": "3.7.3"
  }
 },
 "nbformat": 4,
 "nbformat_minor": 2
}
