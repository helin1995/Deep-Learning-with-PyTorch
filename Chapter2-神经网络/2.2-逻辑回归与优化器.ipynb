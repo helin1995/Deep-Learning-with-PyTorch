{
 "cells": [
  {
   "cell_type": "markdown",
   "metadata": {},
   "source": [
    "#### Logistic Regression的损失函数为：$$loss=-(ylog(\\widehat{y})+(1-y)log(1-\\widehat{y}))$$\n",
    "#### 其中，$y$是真实的label，$\\widehat{y}$是预测的结果"
   ]
  },
  {
   "cell_type": "code",
   "execution_count": 1,
   "metadata": {},
   "outputs": [],
   "source": [
    "import torch\n",
    "from torch.autograd import Variable\n",
    "import numpy as np\n",
    "import matplotlib.pyplot as plt"
   ]
  },
  {
   "cell_type": "code",
   "execution_count": 2,
   "metadata": {},
   "outputs": [
    {
     "data": {
      "text/plain": [
       "<torch._C.Generator at 0x1e81ef2ec30>"
      ]
     },
     "execution_count": 2,
     "metadata": {},
     "output_type": "execute_result"
    }
   ],
   "source": [
    "torch.manual_seed(345)"
   ]
  },
  {
   "cell_type": "code",
   "execution_count": 3,
   "metadata": {},
   "outputs": [
    {
     "name": "stdout",
     "output_type": "stream",
     "text": [
      "(100, 2)\n",
      "(100, 1)\n"
     ]
    },
    {
     "data": {
      "image/png": "[encoded data removed]",
      "text/plain": [
       "<Figure size 432x288 with 1 Axes>"
      ]
     },
     "metadata": {
      "needs_background": "light"
     },
     "output_type": "display_data"
    }
   ],
   "source": [
    "# 读取数据，并绘制点图\n",
    "with open('data.txt', 'r', encoding='utf-8') as f:\n",
    "    lines = f.readlines()\n",
    "    x_train = []  # 存放特征\n",
    "    y_train = []  # 存放标签\n",
    "    for line in lines:\n",
    "        line = line.strip('\\n')       # 去点字符串两端的换行符\n",
    "        line_split = line.split(',')  # 对每一行按英文逗号(,)分隔\n",
    "        x_train.append([float(line_split[0]), float(line_split[1])])  # 添加特征\n",
    "        y_train.append(float(line_split[2]))                          # 添加标签\n",
    "x_train = np.array(x_train, dtype=np.float32)  # 将python数组转换为numpy数组\n",
    "y_train = np.array(y_train, dtype=np.float32).reshape(-1, 1)\n",
    "print(x_train.shape)\n",
    "print(y_train.shape)\n",
    "for i in range(len(x_train)):\n",
    "    if y_train[i] == 0.:\n",
    "        plt.plot(x_train[i][0], x_train[i][1], 'ro', label='Class 0')\n",
    "    else:\n",
    "        plt.plot(x_train[i][0], x_train[i][1], 'bo', label='Class 1')\n",
    "plt.show()\n",
    "# 数据标准化\n",
    "mean = x_train.mean(axis=0)\n",
    "x_train -= mean\n",
    "std = x_train.std(axis=0)\n",
    "x_train /= std"
   ]
  },
  {
   "cell_type": "code",
   "execution_count": 4,
   "metadata": {},
   "outputs": [],
   "source": [
    "# 将numpy数组转换为变量\n",
    "x_train = Variable(torch.from_numpy(x_train))\n",
    "y_train = Variable(torch.from_numpy(y_train))"
   ]
  },
  {
   "cell_type": "code",
   "execution_count": 5,
   "metadata": {},
   "outputs": [
    {
     "data": {
      "text/plain": [
       "tensor([[0.7311],\n",
       "        [0.8808]])"
      ]
     },
     "execution_count": 5,
     "metadata": {},
     "output_type": "execute_result"
    }
   ],
   "source": [
    "# 定义sigmoid函数\n",
    "def sigmoid(x):\n",
    "    return 1.0 / (1. + torch.exp(-x))\n",
    "x = torch.FloatTensor([[1], [2]])\n",
    "sigmoid(x)"
   ]
  },
  {
   "cell_type": "code",
   "execution_count": 6,
   "metadata": {},
   "outputs": [],
   "source": [
    "# 声明变量并随机初始化\n",
    "w = Variable(torch.randn(2, 1), requires_grad=True)\n",
    "b = Variable(torch.randn(1), requires_grad=True)"
   ]
  },
  {
   "cell_type": "code",
   "execution_count": 7,
   "metadata": {},
   "outputs": [],
   "source": [
    "# 定义线性部分：y = xw + b\n",
    "def linear_model(x):\n",
    "    return torch.mm(x, w) + b"
   ]
  },
  {
   "cell_type": "code",
   "execution_count": 8,
   "metadata": {},
   "outputs": [
    {
     "data": {
      "text/plain": [
       "tensor([[ 3.],\n",
       "        [10.]])"
      ]
     },
     "execution_count": 8,
     "metadata": {},
     "output_type": "execute_result"
    }
   ],
   "source": [
    "x1 = torch.FloatTensor([[1], [2]])\n",
    "x2 = torch.FloatTensor([[3], [5]])\n",
    "x1 * x2  # 对应元素相乘"
   ]
  },
  {
   "cell_type": "code",
   "execution_count": 9,
   "metadata": {},
   "outputs": [],
   "source": [
    "# 定义交叉熵损失函数\n",
    "def get_loss(y_, y):\n",
    "    cross_entropy = -(y * torch.log(y_) + (1. - y) * torch.log(1. - y_))\n",
    "    return torch.mean(cross_entropy)"
   ]
  },
  {
   "cell_type": "code",
   "execution_count": 10,
   "metadata": {},
   "outputs": [
    {
     "data": {
      "text/plain": [
       "tensor([[0.6704],\n",
       "        [0.9623],\n",
       "        [0.7329],\n",
       "        [0.2785],\n",
       "        [0.2678],\n",
       "        [0.8523],\n",
       "        [0.1555],\n",
       "        [0.7580],\n",
       "        [0.1532],\n",
       "        [0.7204],\n",
       "        [0.6947],\n",
       "        [0.9035],\n",
       "        [0.2272],\n",
       "        [0.1064],\n",
       "        [0.6539],\n",
       "        [0.2921],\n",
       "        [0.7255],\n",
       "        [0.8078],\n",
       "        [0.1353],\n",
       "        [0.7287],\n",
       "        [0.8487],\n",
       "        [0.3087],\n",
       "        [0.8841],\n",
       "        [0.9547],\n",
       "        [0.3726],\n",
       "        [0.5203],\n",
       "        [0.7388],\n",
       "        [0.7110],\n",
       "        [0.8103],\n",
       "        [0.8063],\n",
       "        [0.4809],\n",
       "        [0.4943],\n",
       "        [0.7280],\n",
       "        [0.6352],\n",
       "        [0.7192],\n",
       "        [0.8356],\n",
       "        [0.3339],\n",
       "        [0.3203],\n",
       "        [0.8166],\n",
       "        [0.7151],\n",
       "        [0.5231],\n",
       "        [0.8934],\n",
       "        [0.2701],\n",
       "        [0.7747],\n",
       "        [0.9018],\n",
       "        [0.7878],\n",
       "        [0.3562],\n",
       "        [0.0698],\n",
       "        [0.1479],\n",
       "        [0.0788],\n",
       "        [0.2761],\n",
       "        [0.2917],\n",
       "        [0.6670],\n",
       "        [0.8726],\n",
       "        [0.8784],\n",
       "        [0.7892],\n",
       "        [0.2047],\n",
       "        [0.3992],\n",
       "        [0.3959],\n",
       "        [0.2870],\n",
       "        [0.1729],\n",
       "        [0.9432],\n",
       "        [0.9202],\n",
       "        [0.9457],\n",
       "        [0.7455],\n",
       "        [0.8675],\n",
       "        [0.2934],\n",
       "        [0.8683],\n",
       "        [0.0988],\n",
       "        [0.6236],\n",
       "        [0.9599],\n",
       "        [0.3661],\n",
       "        [0.1040],\n",
       "        [0.4858],\n",
       "        [0.4558],\n",
       "        [0.1556],\n",
       "        [0.3663],\n",
       "        [0.5460],\n",
       "        [0.8852],\n",
       "        [0.7497],\n",
       "        [0.2595],\n",
       "        [0.5874],\n",
       "        [0.5240],\n",
       "        [0.7336],\n",
       "        [0.1057],\n",
       "        [0.2214],\n",
       "        [0.5830],\n",
       "        [0.1314],\n",
       "        [0.0793],\n",
       "        [0.7570],\n",
       "        [0.1449],\n",
       "        [0.0887],\n",
       "        [0.9389],\n",
       "        [0.1879],\n",
       "        [0.6433],\n",
       "        [0.6580],\n",
       "        [0.4403],\n",
       "        [0.1942],\n",
       "        [0.6732],\n",
       "        [0.1421]], grad_fn=<MulBackward0>)"
      ]
     },
     "execution_count": 10,
     "metadata": {},
     "output_type": "execute_result"
    }
   ],
   "source": [
    "y_linear = linear_model(x_train)\n",
    "y_ = sigmoid(y_linear)\n",
    "# y_ = torch.clamp(y_, min=1e-12)\n",
    "y_"
   ]
  },
  {
   "cell_type": "code",
   "execution_count": 11,
   "metadata": {},
   "outputs": [],
   "source": [
    "loss = get_loss(y_, y_train)"
   ]
  },
  {
   "cell_type": "code",
   "execution_count": 12,
   "metadata": {},
   "outputs": [
    {
     "data": {
      "text/plain": [
       "tensor(1.4701, grad_fn=<MeanBackward0>)"
      ]
     },
     "execution_count": 12,
     "metadata": {},
     "output_type": "execute_result"
    }
   ],
   "source": [
    "loss"
   ]
  },
  {
   "cell_type": "code",
   "execution_count": 13,
   "metadata": {},
   "outputs": [],
   "source": [
    "loss.backward()"
   ]
  },
  {
   "cell_type": "code",
   "execution_count": 14,
   "metadata": {},
   "outputs": [],
   "source": [
    "w.data = w.data - 0.1 * w.grad\n",
    "b.data = b.data - 0.1 * b.grad"
   ]
  },
  {
   "cell_type": "code",
   "execution_count": 15,
   "metadata": {},
   "outputs": [
    {
     "data": {
      "text/plain": [
       "tensor([[-0.7859],\n",
       "        [-1.2202]], requires_grad=True)"
      ]
     },
     "execution_count": 15,
     "metadata": {},
     "output_type": "execute_result"
    }
   ],
   "source": [
    "w"
   ]
  },
  {
   "cell_type": "code",
   "execution_count": 16,
   "metadata": {},
   "outputs": [
    {
     "data": {
      "text/plain": [
       "tensor([0.1997], requires_grad=True)"
      ]
     },
     "execution_count": 16,
     "metadata": {},
     "output_type": "execute_result"
    }
   ],
   "source": [
    "b"
   ]
  },
  {
   "cell_type": "code",
   "execution_count": 17,
   "metadata": {},
   "outputs": [
    {
     "data": {
      "image/png": "[encoded data removed]",
      "text/plain": [
       "<Figure size 432x288 with 1 Axes>"
      ]
     },
     "metadata": {
      "needs_background": "light"
     },
     "output_type": "display_data"
    }
   ],
   "source": [
    "plot_x = np.arange(-2.0, 2., 0.01)\n",
    "plot_y = (-w.data[0].item() * plot_x - b.data.item()) / w.data[1].item()\n",
    "plt.plot(plot_x, plot_y, 'g')\n",
    "for i in range(len(x_train)):\n",
    "    if y_train[i] == 0.:\n",
    "        plt.plot(x_train[i][0], x_train[i][1], 'ro', label='Class 0')\n",
    "    else:\n",
    "        plt.plot(x_train[i][0], x_train[i][1], 'bo', label='Class 1')\n",
    "plt.show()"
   ]
  },
  {
   "cell_type": "code",
   "execution_count": 18,
   "metadata": {},
   "outputs": [
    {
     "name": "stdout",
     "output_type": "stream",
     "text": [
      "epoch:  10, loss: 1.092977\n",
      "epoch:  20, loss: 0.824750\n",
      "epoch:  30, loss: 0.652775\n",
      "epoch:  40, loss: 0.545869\n",
      "epoch:  50, loss: 0.477361\n",
      "epoch:  60, loss: 0.431059\n",
      "epoch:  70, loss: 0.398064\n",
      "epoch:  80, loss: 0.373463\n",
      "epoch:  90, loss: 0.354424\n",
      "epoch: 100, loss: 0.339241\n",
      "epoch: 110, loss: 0.326831\n",
      "epoch: 120, loss: 0.316481\n",
      "epoch: 130, loss: 0.307705\n",
      "epoch: 140, loss: 0.300157\n",
      "epoch: 150, loss: 0.293589\n",
      "epoch: 160, loss: 0.287815\n",
      "epoch: 170, loss: 0.282694\n",
      "epoch: 180, loss: 0.278118\n",
      "epoch: 190, loss: 0.274001\n",
      "epoch: 200, loss: 0.270276\n"
     ]
    }
   ],
   "source": [
    "Epochs = 200\n",
    "train_loss = []\n",
    "for epoch in range(200):\n",
    "    y_linear = linear_model(x_train)\n",
    "    y_ = sigmoid(y_linear)\n",
    "    # y_ = torch.clamp(y_, min=1e-12)\n",
    "    loss = get_loss(y_, y_train)\n",
    "    train_loss.append(loss.data.item())\n",
    "    \n",
    "    w.grad.zero_()\n",
    "    b.grad.zero_()\n",
    "    loss.backward()\n",
    "    \n",
    "    w.data = w.data - 0.1 * w.grad\n",
    "    b.data = b.data - 0.1 * b.grad\n",
    "    if (epoch + 1) % 10 == 0:\n",
    "        print('epoch: {:3d}, loss: {:.6f}'.format(epoch + 1, loss.data.item()))"
   ]
  },
  {
   "cell_type": "code",
   "execution_count": 19,
   "metadata": {},
   "outputs": [
    {
     "data": {
      "image/png": "[encoded data removed]",
      "text/plain": [
       "<Figure size 432x288 with 1 Axes>"
      ]
     },
     "metadata": {
      "needs_background": "light"
     },
     "output_type": "display_data"
    }
   ],
   "source": [
    "plt.plot(range(1, Epochs + 1), train_loss, 'r')\n",
    "plt.xlabel('Epochs')\n",
    "plt.ylabel('Training loss')\n",
    "plt.show()"
   ]
  },
  {
   "cell_type": "code",
   "execution_count": 20,
   "metadata": {},
   "outputs": [
    {
     "data": {
      "image/png": "[encoded data removed]",
      "text/plain": [
       "<Figure size 432x288 with 1 Axes>"
      ]
     },
     "metadata": {
      "needs_background": "light"
     },
     "output_type": "display_data"
    }
   ],
   "source": [
    "plot_x = np.arange(-2.0, 2., 0.01)\n",
    "plot_y = (-w.data[0].item() * plot_x - b.data.item())/ w.data[1].item()\n",
    "plt.plot(plot_x, plot_y, 'g')\n",
    "for i in range(len(x_train)):\n",
    "    if y_train[i] == 0.:\n",
    "        plt.plot(x_train[i][0], x_train[i][1], 'ro', label='Class 0')\n",
    "    else:\n",
    "        plt.plot(x_train[i][0], x_train[i][1], 'bo', label='Class 1')\n",
    "plt.show()"
   ]
  },
  {
   "cell_type": "markdown",
   "metadata": {},
   "source": [
    "#### 以上方法是我们自己定义损失函数，参数更新方式也很繁琐。假如参数有很多，比如有一百个，那么我们用上面的方式更新参数就需要一百行来实现。在PyTorch中，它已经为我们封装好了常用的损失函数和优化器torch.optim，让我能能够更方便地搭建模型。\n",
    "#### 使用PyTorch中的优化器torch.optim需要另外一种数据类型--nn.Parameter，这个数据类型本质上和Variable是一样的，只不过nn.Parameter是默认要求梯度的，而Variable默认是不求梯度的。torch.optim中包含了常用的优化算法：梯度下降等。"
   ]
  },
  {
   "cell_type": "code",
   "execution_count": 21,
   "metadata": {},
   "outputs": [],
   "source": [
    "# 使用torch.optim更新参数\n",
    "from torch import nn\n",
    "\n",
    "w = nn.Parameter(torch.randn(2, 1))\n",
    "b = nn.Parameter(torch.randn(1))\n",
    "\n",
    "def logistic_regression(x):\n",
    "    return torch.sigmoid(torch.mm(x, w) + b)\n",
    "\n",
    "optimizer = torch.optim.SGD([w, b], lr=0.1)  # SGD-随机梯度下降，[w, b]-参数列表，lr-学习率"
   ]
  },
  {
   "cell_type": "code",
   "execution_count": 22,
   "metadata": {},
   "outputs": [
    {
     "name": "stdout",
     "output_type": "stream",
     "text": [
      "epoch:  10, loss: 0.442263\n",
      "epoch:  20, loss: 0.405287\n",
      "epoch:  30, loss: 0.378275\n",
      "epoch:  40, loss: 0.357730\n",
      "epoch:  50, loss: 0.341578\n",
      "epoch:  60, loss: 0.328528\n",
      "epoch:  70, loss: 0.317745\n",
      "epoch:  80, loss: 0.308669\n",
      "epoch:  90, loss: 0.300909\n",
      "epoch: 100, loss: 0.294188\n",
      "epoch: 110, loss: 0.288301\n",
      "epoch: 120, loss: 0.283096\n",
      "epoch: 130, loss: 0.278457\n",
      "epoch: 140, loss: 0.274291\n",
      "epoch: 150, loss: 0.270527\n",
      "epoch: 160, loss: 0.267107\n",
      "epoch: 170, loss: 0.263985\n",
      "epoch: 180, loss: 0.261122\n",
      "epoch: 190, loss: 0.258487\n",
      "epoch: 200, loss: 0.256051\n"
     ]
    }
   ],
   "source": [
    "# 进行参数更新\n",
    "Epochs = 200\n",
    "for epoch in range(Epochs):\n",
    "    # 前向传播\n",
    "    y_ = logistic_regression(x_train)\n",
    "    loss = get_loss(y_, y_train)\n",
    "    # 反向传播\n",
    "    optimizer.zero_grad()  # 令优化器中的参数的梯度为0\n",
    "    loss.backward()        # 自动求导\n",
    "    # 更新参数\n",
    "    optimizer.step()\n",
    "    \n",
    "    if (epoch + 1) % 10 == 0:\n",
    "        print('epoch: {:3d}, loss: {:.6f}'.format(epoch + 1, loss.data.item()))"
   ]
  },
  {
   "cell_type": "code",
   "execution_count": 23,
   "metadata": {},
   "outputs": [
    {
     "data": {
      "image/png": "[encoded data removed]",
      "text/plain": [
       "<Figure size 432x288 with 1 Axes>"
      ]
     },
     "metadata": {
      "needs_background": "light"
     },
     "output_type": "display_data"
    }
   ],
   "source": [
    "plot_x = np.arange(-2.0, 2., 0.01)\n",
    "plot_y = (-w.data[0].item() * plot_x - b.data.item())/ w.data[1].item()\n",
    "plt.plot(plot_x, plot_y, 'g')\n",
    "for i in range(len(x_train)):\n",
    "    if y_train[i] == 0.:\n",
    "        plt.plot(x_train[i][0], x_train[i][1], 'ro', label='Class 0')\n",
    "    else:\n",
    "        plt.plot(x_train[i][0], x_train[i][1], 'bo', label='Class 1')\n",
    "plt.show()"
   ]
  },
  {
   "cell_type": "markdown",
   "metadata": {},
   "source": [
    "#### 前面我们使用了自己写的 loss，其实 PyTorch 已经为我们写好了一些常见的 loss，比如线性回归里面的 loss 是 nn.MSE()，而 Logistic 回归的二分类 loss 在 PyTorch 中是 nn.BCEWithLogitsLoss()。PyTorch 出于稳定性考虑，将模型的 Sigmoid 操作和最后的 loss 都合在了 nn.BCEWithLogitsLoss()，所以我们使用 PyTorch 自带的 loss 就不需要再加上 Sigmoid 操作了"
   ]
  },
  {
   "cell_type": "code",
   "execution_count": 24,
   "metadata": {},
   "outputs": [],
   "source": [
    "# 使用自带的损失函数\n",
    "criterion = nn.BCEWithLogitsLoss()  # 声明一个损失函数实例\n",
    "\n",
    "w = nn.Parameter(torch.randn(2, 1))\n",
    "b = nn.Parameter(torch.randn(1))\n",
    "\n",
    "def logistic_reg(x):\n",
    "    # 因为nn.BCEWithLogitsLoss()中包含了sigmoid操作，所以在这里就不需要进行sigmoid的了\n",
    "    return torch.mm(x, w) + b\n",
    "\n",
    "optimizer = torch.optim.SGD([w, b], lr=0.1)"
   ]
  },
  {
   "cell_type": "code",
   "execution_count": 25,
   "metadata": {},
   "outputs": [
    {
     "name": "stdout",
     "output_type": "stream",
     "text": [
      "epoch:  10, loss: 0.473816\n",
      "epoch:  20, loss: 0.423681\n",
      "epoch:  30, loss: 0.388526\n",
      "epoch:  40, loss: 0.363012\n",
      "epoch:  50, loss: 0.343858\n",
      "epoch:  60, loss: 0.329016\n",
      "epoch:  70, loss: 0.317186\n",
      "epoch:  80, loss: 0.307518\n",
      "epoch:  90, loss: 0.299447\n",
      "epoch: 100, loss: 0.292585\n",
      "epoch: 110, loss: 0.286659\n",
      "epoch: 120, loss: 0.281476\n",
      "epoch: 130, loss: 0.276893\n",
      "epoch: 140, loss: 0.272801\n",
      "epoch: 150, loss: 0.269119\n",
      "epoch: 160, loss: 0.265783\n",
      "epoch: 170, loss: 0.262744\n",
      "epoch: 180, loss: 0.259960\n",
      "epoch: 190, loss: 0.257399\n",
      "epoch: 200, loss: 0.255033\n"
     ]
    }
   ],
   "source": [
    "# 进行参数更新\n",
    "Epochs = 200\n",
    "for epoch in range(Epochs):\n",
    "    # 前向传播\n",
    "    y_ = logistic_reg(x_train)\n",
    "    loss = criterion(y_, y_train)\n",
    "    # 反向传播\n",
    "    optimizer.zero_grad()  # 令优化器中的参数的梯度为0\n",
    "    loss.backward()        # 自动求导\n",
    "    # 更新参数\n",
    "    optimizer.step()\n",
    "    \n",
    "    if (epoch + 1) % 10 == 0:\n",
    "        print('epoch: {:3d}, loss: {:.6f}'.format(epoch + 1, loss.data.item()))"
   ]
  },
  {
   "cell_type": "code",
   "execution_count": 26,
   "metadata": {},
   "outputs": [
    {
     "data": {
      "image/png": "[encoded data removed]",
      "text/plain": [
       "<Figure size 432x288 with 1 Axes>"
      ]
     },
     "metadata": {
      "needs_background": "light"
     },
     "output_type": "display_data"
    }
   ],
   "source": [
    "plot_x = np.arange(-2.0, 2., 0.01)\n",
    "plot_y = (-w.data[0].item() * plot_x - b.data.item())/ w.data[1].item()\n",
    "plt.plot(plot_x, plot_y, 'g')\n",
    "for i in range(len(x_train)):\n",
    "    if y_train[i] == 0.:\n",
    "        plt.plot(x_train[i][0], x_train[i][1], 'ro', label='Class 0')\n",
    "    else:\n",
    "        plt.plot(x_train[i][0], x_train[i][1], 'bo', label='Class 1')\n",
    "plt.show()"
   ]
  },
  {
   "cell_type": "code",
   "execution_count": null,
   "metadata": {},
   "outputs": [],
   "source": []
  }
 ],
 "metadata": {
  "kernelspec": {
   "display_name": "Python 3",
   "language": "python",
   "name": "python3"
  },
  "language_info": {
   "codemirror_mode": {
    "name": "ipython",
    "version": 3
   },
   "file_extension": ".py",
   "mimetype": "text/x-python",
   "name": "python",
   "nbconvert_exporter": "python",
   "pygments_lexer": "ipython3",
   "version": "3.7.3"
  }
 },
 "nbformat": 4,
 "nbformat_minor": 2
}
