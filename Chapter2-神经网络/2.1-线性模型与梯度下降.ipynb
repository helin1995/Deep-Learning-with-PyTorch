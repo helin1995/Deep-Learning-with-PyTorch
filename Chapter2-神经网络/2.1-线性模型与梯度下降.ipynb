{
 "cells": [
  {
   "cell_type": "markdown",
   "metadata": {},
   "source": [
    "## 一元线性模型\n",
    "#### 假设有变量$x_i$和目标$y_i$，每个$i$对应于一个数据点（样本），我们希望建立一个模型$$\\widehat{y_i}=wx_i+b$$\n",
    "#### $\\widehat{y_i}$是预测的结果，我们希望通过 $\\widehat{y_i}$来拟合目标$y_i$，即最小化$$\\frac{1}{n}\\sum_{i=1}^{n}(\\widehat{y_i}-y_i)^2$$\n",
    "#### 其中，n是样本数量。那么如何最小化这个误差呢？这里就需要用到梯度下降了。\n",
    "## 梯度下降\n",
    "#### 更新规则：$$w^{i+1}=w^i-\\eta\\frac{\\partial loss}{\\partial w}$$"
   ]
  },
  {
   "cell_type": "code",
   "execution_count": 1,
   "metadata": {},
   "outputs": [
    {
     "data": {
      "text/plain": [
       "<torch._C.Generator at 0x2153acecc30>"
      ]
     },
     "execution_count": 1,
     "metadata": {},
     "output_type": "execute_result"
    }
   ],
   "source": [
    "import torch\n",
    "import numpy as np\n",
    "from torch.autograd import Variable\n",
    "\n",
    "torch.manual_seed(1234)"
   ]
  },
  {
   "cell_type": "code",
   "execution_count": 2,
   "metadata": {},
   "outputs": [
    {
     "data": {
      "text/plain": [
       "<Figure size 640x480 with 1 Axes>"
      ]
     },
     "metadata": {},
     "output_type": "display_data"
    }
   ],
   "source": [
    "# 读取数据x和y\n",
    "x_train = np.array([[3.3], [4.4], [5.5], [6.71], [6.93], [4.168],\n",
    "                    [9.779], [6.182], [7.59], [2.167], [7.042],\n",
    "                    [10.791], [5.313], [7.997], [3.1]], dtype=np.float32)\n",
    "\n",
    "y_train = np.array([[1.7], [2.76], [2.09], [3.19], [1.694], [1.573],\n",
    "                    [3.366], [2.596], [2.53], [1.221], [2.827],\n",
    "                    [3.465], [1.65], [2.904], [1.3]], dtype=np.float32)\n",
    "\n",
    "# 绘制数据图像\n",
    "import matplotlib.pyplot as plt\n",
    "plt.plot(x_train, y_train, 'bo', label='sample points')\n",
    "plt.legend()\n",
    "plt.show()"
   ]
  },
  {
   "cell_type": "code",
   "execution_count": 3,
   "metadata": {},
   "outputs": [],
   "source": [
    "# 转换为tensor\n",
    "x_train = torch.from_numpy(x_train)\n",
    "y_train = torch.from_numpy(y_train)"
   ]
  },
  {
   "cell_type": "code",
   "execution_count": 4,
   "metadata": {},
   "outputs": [],
   "source": [
    "# 定义参数w和b\n",
    "w = Variable(torch.randn(1), requires_grad=True)\n",
    "b = Variable(torch.randn(1), requires_grad=True)"
   ]
  },
  {
   "cell_type": "code",
   "execution_count": 5,
   "metadata": {},
   "outputs": [],
   "source": [
    "# 因为w和b都是变量，所以x_train和y_train也必须是变量，但是不用求梯度\n",
    "x_train = Variable(x_train)\n",
    "y_train = Variable(y_train)\n",
    "\n",
    "# 构建线性回归模型\n",
    "def linear_model(x):\n",
    "    return x * w + b"
   ]
  },
  {
   "cell_type": "code",
   "execution_count": 6,
   "metadata": {},
   "outputs": [
    {
     "data": {
      "text/plain": [
       "tensor([[0.5546],\n",
       "        [0.6054],\n",
       "        [0.6561],\n",
       "        [0.7119],\n",
       "        [0.7221],\n",
       "        [0.5947],\n",
       "        [0.8535],\n",
       "        [0.6876],\n",
       "        [0.7525],\n",
       "        [0.5024],\n",
       "        [0.7273],\n",
       "        [0.9002],\n",
       "        [0.6475],\n",
       "        [0.7713],\n",
       "        [0.5454]], grad_fn=<AddBackward0>)"
      ]
     },
     "execution_count": 6,
     "metadata": {},
     "output_type": "execute_result"
    }
   ],
   "source": [
    "# 定义好了模型之后，在更新参数之前，看看模型的输出长什么样\n",
    "y_ = linear_model(x_train)\n",
    "y_"
   ]
  },
  {
   "cell_type": "code",
   "execution_count": 7,
   "metadata": {},
   "outputs": [
    {
     "data": {
      "image/png": "[encoded data removed]",
      "text/plain": [
       "<Figure size 432x288 with 1 Axes>"
      ]
     },
     "metadata": {
      "needs_background": "light"
     },
     "output_type": "display_data"
    }
   ],
   "source": [
    "plt.plot(x_train.data.numpy(), y_train.data.numpy(), 'bo', label='real')\n",
    "plt.plot(x_train.data.numpy(), y_.data.numpy(), 'ro', label='estimated')\n",
    "plt.legend()\n",
    "plt.show()"
   ]
  },
  {
   "cell_type": "markdown",
   "metadata": {},
   "source": [
    "#### 线性回归的损失函数是：$$loss=\\frac{1}{n}\\sum_{i=1}^n(\\widehat{y_i}-y_i)^2$$"
   ]
  },
  {
   "cell_type": "code",
   "execution_count": 8,
   "metadata": {},
   "outputs": [
    {
     "data": {
      "text/plain": [
       "tensor([[1],\n",
       "        [4],\n",
       "        [9]], dtype=torch.int32)"
      ]
     },
     "execution_count": 8,
     "metadata": {},
     "output_type": "execute_result"
    }
   ],
   "source": [
    "x_test = np.array([[1], [2], [3]])\n",
    "x_test = torch.from_numpy(x_test)\n",
    "\n",
    "x_test ** 2  # 向量的平方结果为每个元素的平方组成的向量"
   ]
  },
  {
   "cell_type": "code",
   "execution_count": 9,
   "metadata": {},
   "outputs": [
    {
     "name": "stdout",
     "output_type": "stream",
     "text": [
      "tensor(3.1195, grad_fn=<MeanBackward0>)\n"
     ]
    }
   ],
   "source": [
    "def get_loss(y_, y):\n",
    "    return torch.mean((y_ - y) ** 2)\n",
    "loss = get_loss(y_, y_train)\n",
    "print(loss)"
   ]
  },
  {
   "cell_type": "code",
   "execution_count": 10,
   "metadata": {},
   "outputs": [],
   "source": [
    "# 自动求导\n",
    "loss.backward()"
   ]
  },
  {
   "cell_type": "code",
   "execution_count": 11,
   "metadata": {},
   "outputs": [
    {
     "name": "stdout",
     "output_type": "stream",
     "text": [
      "tensor([-22.2916])\n",
      "tensor([-3.2845])\n"
     ]
    }
   ],
   "source": [
    "# 查看w和b的梯度\n",
    "print(w.grad)\n",
    "print(b.grad)"
   ]
  },
  {
   "cell_type": "code",
   "execution_count": 12,
   "metadata": {},
   "outputs": [],
   "source": [
    "# 更新一次参数\n",
    "w.data = w.data - 1e-2 * w.grad\n",
    "b.data = b.data - 1e-2 * b.grad"
   ]
  },
  {
   "cell_type": "code",
   "execution_count": 13,
   "metadata": {},
   "outputs": [
    {
     "data": {
      "image/png": "[encoded data removed]",
      "text/plain": [
       "<Figure size 432x288 with 1 Axes>"
      ]
     },
     "metadata": {
      "needs_background": "light"
     },
     "output_type": "display_data"
    }
   ],
   "source": [
    "# 更新完一次参数之后，再一次看看模型的输出结果\n",
    "y_ = linear_model(x_train)\n",
    "plt.plot(x_train.data.numpy(), y_train.data.numpy(), 'bo', label='real')\n",
    "plt.plot(x_train.data.numpy(), y_.data.numpy(), 'ro', label='estimated')\n",
    "plt.legend()\n",
    "plt.show()"
   ]
  },
  {
   "cell_type": "markdown",
   "metadata": {},
   "source": [
    "#### 更新完一次参数之后，可以看到红色的线比第一次更“接近”蓝色点（真实值），要更好地拟合蓝色点还需要几次更新。"
   ]
  },
  {
   "cell_type": "code",
   "execution_count": 14,
   "metadata": {},
   "outputs": [
    {
     "name": "stdout",
     "output_type": "stream",
     "text": [
      "epoch:  1, loss: 0.2357\n",
      "epoch:  2, loss: 0.1822\n",
      "epoch:  3, loss: 0.1812\n",
      "epoch:  4, loss: 0.1811\n",
      "epoch:  5, loss: 0.1810\n",
      "epoch:  6, loss: 0.1810\n",
      "epoch:  7, loss: 0.1809\n",
      "epoch:  8, loss: 0.1809\n",
      "epoch:  9, loss: 0.1808\n",
      "epoch: 10, loss: 0.1807\n"
     ]
    }
   ],
   "source": [
    "Epochs = 10  # 训练轮数\n",
    "eta = 1e-2   # 学习率\n",
    "for epoch in range(Epochs):\n",
    "    # 前向传播，计算预测值和loss\n",
    "    y_ = linear_model(x_train)\n",
    "    loss = get_loss(y_, y_train)\n",
    "    \n",
    "    # 反向传播，计算梯度，但首先要把参数的梯度归零\n",
    "    w.grad.zero_()\n",
    "    b.grad.zero_()\n",
    "    loss.backward()\n",
    "    \n",
    "    # 更新参数\n",
    "    w.data = w.data - eta * w.grad\n",
    "    b.data = b.data - eta * b.grad\n",
    "    print('epoch: {:2d}, loss: {:.4f}'.format(epoch + 1, loss.data.item()))\n",
    "    # 如果tensor只有一个值，那么将它转化为python数值可以用.item()"
   ]
  },
  {
   "cell_type": "code",
   "execution_count": 15,
   "metadata": {},
   "outputs": [
    {
     "data": {
      "image/png": "[encoded data removed]",
      "text/plain": [
       "<Figure size 432x288 with 1 Axes>"
      ]
     },
     "metadata": {
      "needs_background": "light"
     },
     "output_type": "display_data"
    }
   ],
   "source": [
    "y_ = linear_model(x_train)\n",
    "plt.plot(x_train.data.numpy(), y_train.data.numpy(), 'bo', label='real')\n",
    "plt.plot(x_train.data.numpy(), y_.data.numpy(), 'ro', label='estimated')\n",
    "plt.legend()\n",
    "plt.show()"
   ]
  },
  {
   "cell_type": "markdown",
   "metadata": {},
   "source": [
    "## 多项式回归模型\n",
    "#### $$\\widehat{y_i}=w_0+w_1x+w_2x^2+w_3x^3+...$$"
   ]
  },
  {
   "cell_type": "code",
   "execution_count": 16,
   "metadata": {},
   "outputs": [],
   "source": [
    "# 定义一个多变量函数\n",
    "w_target = np.array([0.5, 3., 2.4])  # 定义参数\n",
    "b_target = np.array([0.9])           # 定义参数"
   ]
  },
  {
   "cell_type": "markdown",
   "metadata": {},
   "source": [
    "#### 由以上参数定义的模型（多项式）为：$$y=0.9+0.5x+3.0x^2+2.4x^3$$"
   ]
  },
  {
   "cell_type": "code",
   "execution_count": 17,
   "metadata": {},
   "outputs": [
    {
     "data": {
      "image/png": "[encoded data removed]",
      "text/plain": [
       "<Figure size 432x288 with 1 Axes>"
      ]
     },
     "metadata": {
      "needs_background": "light"
     },
     "output_type": "display_data"
    }
   ],
   "source": [
    "# 画出上面定义的多项式的图像\n",
    "x_sample = np.arange(-3., 3.1, 0.1)\n",
    "y_sample = b_target[0] + w_target[0] * x_sample + w_target[1] * (x_sample ** 2) + w_target[2] * (x_sample ** 3)\n",
    "plt.plot(x_sample, y_sample, 'b', label='real curve')\n",
    "plt.show()\n",
    "# 下图即为要拟合的曲线"
   ]
  },
  {
   "cell_type": "code",
   "execution_count": 18,
   "metadata": {},
   "outputs": [
    {
     "name": "stdout",
     "output_type": "stream",
     "text": [
      "[[-3.0000000e+00  9.0000000e+00 -2.7000000e+01]\n",
      " [-2.9000001e+00  8.4099998e+00 -2.4389000e+01]\n",
      " [-2.8000000e+00  7.8400002e+00 -2.1952000e+01]\n",
      " [-2.7000000e+00  7.2900000e+00 -1.9683001e+01]\n",
      " [-2.5999999e+00  6.7600002e+00 -1.7576000e+01]\n",
      " [-2.5000000e+00  6.2500000e+00 -1.5625000e+01]\n",
      " [-2.4000001e+00  5.7600002e+00 -1.3824000e+01]\n",
      " [-2.3000000e+00  5.2900000e+00 -1.2167000e+01]\n",
      " [-2.2000000e+00  4.8400002e+00 -1.0648000e+01]\n",
      " [-2.0999999e+00  4.4099998e+00 -9.2609997e+00]\n",
      " [-2.0000000e+00  4.0000000e+00 -8.0000000e+00]\n",
      " [-1.9000000e+00  3.6099999e+00 -6.8590002e+00]\n",
      " [-1.8000000e+00  3.2400000e+00 -5.8319998e+00]\n",
      " [-1.7000000e+00  2.8900001e+00 -4.9130001e+00]\n",
      " [-1.6000000e+00  2.5599999e+00 -4.0960002e+00]\n",
      " [-1.5000000e+00  2.2500000e+00 -3.3750000e+00]\n",
      " [-1.4000000e+00  1.9600000e+00 -2.7440000e+00]\n",
      " [-1.3000000e+00  1.6900001e+00 -2.1970000e+00]\n",
      " [-1.2000000e+00  1.4400001e+00 -1.7280000e+00]\n",
      " [-1.1000000e+00  1.2100000e+00 -1.3310000e+00]\n",
      " [-1.0000000e+00  1.0000000e+00 -1.0000000e+00]\n",
      " [-8.9999998e-01  8.1000000e-01 -7.2899997e-01]\n",
      " [-8.0000001e-01  6.3999999e-01 -5.1200002e-01]\n",
      " [-6.9999999e-01  4.9000001e-01 -3.4299999e-01]\n",
      " [-6.0000002e-01  3.6000001e-01 -2.1600001e-01]\n",
      " [-5.0000000e-01  2.5000000e-01 -1.2500000e-01]\n",
      " [-4.0000001e-01  1.6000000e-01 -6.4000003e-02]\n",
      " [-3.0000001e-01  9.0000004e-02 -2.7000001e-02]\n",
      " [-2.0000000e-01  3.9999999e-02 -8.0000004e-03]\n",
      " [-1.0000000e-01  9.9999998e-03 -1.0000000e-03]\n",
      " [ 2.6645353e-15  7.0997481e-30  1.9618179e-44]\n",
      " [ 1.0000000e-01  9.9999998e-03  1.0000000e-03]\n",
      " [ 2.0000000e-01  3.9999999e-02  8.0000004e-03]\n",
      " [ 3.0000001e-01  9.0000004e-02  2.7000001e-02]\n",
      " [ 4.0000001e-01  1.6000000e-01  6.4000003e-02]\n",
      " [ 5.0000000e-01  2.5000000e-01  1.2500000e-01]\n",
      " [ 6.0000002e-01  3.6000001e-01  2.1600001e-01]\n",
      " [ 6.9999999e-01  4.9000001e-01  3.4299999e-01]\n",
      " [ 8.0000001e-01  6.3999999e-01  5.1200002e-01]\n",
      " [ 8.9999998e-01  8.1000000e-01  7.2899997e-01]\n",
      " [ 1.0000000e+00  1.0000000e+00  1.0000000e+00]\n",
      " [ 1.1000000e+00  1.2100000e+00  1.3310000e+00]\n",
      " [ 1.2000000e+00  1.4400001e+00  1.7280000e+00]\n",
      " [ 1.3000000e+00  1.6900001e+00  2.1970000e+00]\n",
      " [ 1.4000000e+00  1.9600000e+00  2.7440000e+00]\n",
      " [ 1.5000000e+00  2.2500000e+00  3.3750000e+00]\n",
      " [ 1.6000000e+00  2.5599999e+00  4.0960002e+00]\n",
      " [ 1.7000000e+00  2.8900001e+00  4.9130001e+00]\n",
      " [ 1.8000000e+00  3.2400000e+00  5.8319998e+00]\n",
      " [ 1.9000000e+00  3.6099999e+00  6.8590002e+00]\n",
      " [ 2.0000000e+00  4.0000000e+00  8.0000000e+00]\n",
      " [ 2.0999999e+00  4.4099998e+00  9.2609997e+00]\n",
      " [ 2.2000000e+00  4.8400002e+00  1.0648000e+01]\n",
      " [ 2.3000000e+00  5.2900000e+00  1.2167000e+01]\n",
      " [ 2.4000001e+00  5.7600002e+00  1.3824000e+01]\n",
      " [ 2.5000000e+00  6.2500000e+00  1.5625000e+01]\n",
      " [ 2.5999999e+00  6.7600002e+00  1.7576000e+01]\n",
      " [ 2.7000000e+00  7.2900000e+00  1.9683001e+01]\n",
      " [ 2.8000000e+00  7.8400002e+00  2.1952000e+01]\n",
      " [ 2.9000001e+00  8.4099998e+00  2.4389000e+01]\n",
      " [ 3.0000000e+00  9.0000000e+00  2.7000000e+01]]\n",
      "(61, 3)\n"
     ]
    }
   ],
   "source": [
    "# 要点：列表解析、矩阵转置、数据类型转换\n",
    "# 1、numpy中矩阵转置用.T即可\n",
    "# 2、numpy中改变array的数据类型可以用函数astype()\n",
    "# 3、列表解析，比如：[i ** 2 for i in range(4)] ==> [0, 1, 4, 9]\n",
    "# 相当于语句：\n",
    "# num = []\n",
    "# for i in range(4):\n",
    "#     num.append(i ** 2)\n",
    "x_train = np.array([x_sample ** i for i in range(1, 4)]).T.astype(np.float32)\n",
    "print(x_train)\n",
    "print(x_train.shape)"
   ]
  },
  {
   "cell_type": "code",
   "execution_count": 19,
   "metadata": {},
   "outputs": [],
   "source": [
    "# 将y_train定义为列向量\n",
    "y_train = y_sample.reshape(-1, 1).astype(np.float32)"
   ]
  },
  {
   "cell_type": "code",
   "execution_count": 20,
   "metadata": {},
   "outputs": [],
   "source": [
    "# 将numpy数组转换为tensor，然后将tensor转换为变量\n",
    "x_train = Variable(torch.from_numpy(x_train))\n",
    "y_train = Variable(torch.from_numpy(y_train))"
   ]
  },
  {
   "cell_type": "code",
   "execution_count": 21,
   "metadata": {},
   "outputs": [
    {
     "name": "stdout",
     "output_type": "stream",
     "text": [
      "torch.Size([61, 3])\n",
      "torch.Size([61, 1])\n"
     ]
    }
   ],
   "source": [
    "print(x_train.shape)\n",
    "print(y_train.shape)"
   ]
  },
  {
   "cell_type": "code",
   "execution_count": 22,
   "metadata": {},
   "outputs": [],
   "source": [
    "# 定义模型\n",
    "def polynomial_model(X):\n",
    "    return torch.mm(X, W) + b  # pytorch中的矩阵乘法：torch.mm(A, B)、torch.matmul(A, B)"
   ]
  },
  {
   "cell_type": "code",
   "execution_count": 23,
   "metadata": {},
   "outputs": [],
   "source": [
    "# 定义模型参数，并初始化\n",
    "W = Variable(torch.randn(3, 1), requires_grad=True)\n",
    "b = Variable(torch.zeros(1), requires_grad=True)"
   ]
  },
  {
   "cell_type": "code",
   "execution_count": 24,
   "metadata": {},
   "outputs": [],
   "source": [
    "# 看看最初模型的输出\n",
    "y_ = polynomial_model(x_train)"
   ]
  },
  {
   "cell_type": "code",
   "execution_count": 25,
   "metadata": {},
   "outputs": [
    {
     "data": {
      "text/plain": [
       "torch.Size([61, 1])"
      ]
     },
     "execution_count": 25,
     "metadata": {},
     "output_type": "execute_result"
    }
   ],
   "source": [
    "y_.shape"
   ]
  },
  {
   "cell_type": "code",
   "execution_count": 26,
   "metadata": {},
   "outputs": [
    {
     "data": {
      "image/png": "[encoded data removed]",
      "text/plain": [
       "<Figure size 432x288 with 1 Axes>"
      ]
     },
     "metadata": {
      "needs_background": "light"
     },
     "output_type": "display_data"
    }
   ],
   "source": [
    "plt.plot(x_sample, y_.data.numpy(), 'r', label='fitted curve')\n",
    "plt.plot(x_sample, y_sample, 'b', label='real curve')\n",
    "plt.legend()\n",
    "plt.show()"
   ]
  },
  {
   "cell_type": "code",
   "execution_count": 27,
   "metadata": {},
   "outputs": [
    {
     "name": "stdout",
     "output_type": "stream",
     "text": [
      "tensor(1356.3704, grad_fn=<MeanBackward0>)\n"
     ]
    }
   ],
   "source": [
    "# 初始模型的loss\n",
    "loss = get_loss(y_, y_train)\n",
    "print(loss)"
   ]
  },
  {
   "cell_type": "code",
   "execution_count": 28,
   "metadata": {},
   "outputs": [],
   "source": [
    "# 自动求导\n",
    "loss.backward()"
   ]
  },
  {
   "cell_type": "code",
   "execution_count": 29,
   "metadata": {},
   "outputs": [
    {
     "name": "stdout",
     "output_type": "stream",
     "text": [
      "tensor([[-113.5467],\n",
      "        [-101.8352],\n",
      "        [-743.7994]])\n",
      "tensor([-19.0562])\n"
     ]
    }
   ],
   "source": [
    "# 参数的梯度\n",
    "print(W.grad)\n",
    "print(b.grad)"
   ]
  },
  {
   "cell_type": "code",
   "execution_count": 30,
   "metadata": {},
   "outputs": [],
   "source": [
    "# 更新参数\n",
    "W.data = W.data - 1e-3 * W.grad\n",
    "b.data = b.data - 1e-3 * b.grad"
   ]
  },
  {
   "cell_type": "code",
   "execution_count": 31,
   "metadata": {},
   "outputs": [],
   "source": [
    "# 用新的模型生成预测值\n",
    "y_ = polynomial_model(x_train)"
   ]
  },
  {
   "cell_type": "code",
   "execution_count": 32,
   "metadata": {},
   "outputs": [
    {
     "data": {
      "image/png": "[encoded data removed]",
      "text/plain": [
       "<Figure size 432x288 with 1 Axes>"
      ]
     },
     "metadata": {
      "needs_background": "light"
     },
     "output_type": "display_data"
    }
   ],
   "source": [
    "plt.plot(x_sample, y_.data.numpy(), 'r', label='fitted curve')\n",
    "plt.plot(x_sample, y_sample, 'b', label='real curve')\n",
    "plt.legend()\n",
    "plt.show()"
   ]
  },
  {
   "cell_type": "code",
   "execution_count": 33,
   "metadata": {},
   "outputs": [
    {
     "name": "stdout",
     "output_type": "stream",
     "text": [
      "epoch:   1, loss: 846.1620\n",
      "epoch:   2, loss: 543.7902\n",
      "epoch:   3, loss: 363.3673\n",
      "epoch:   4, loss: 254.5860\n",
      "epoch:   5, loss: 187.9731\n",
      "epoch:   6, loss: 146.2557\n",
      "epoch:   7, loss: 119.3058\n",
      "epoch:   8, loss: 101.1798\n",
      "epoch:   9, loss: 88.3849\n",
      "epoch:  10, loss: 78.8646\n",
      "epoch:  11, loss: 71.4040\n",
      "epoch:  12, loss: 65.2818\n",
      "epoch:  13, loss: 60.0662\n",
      "epoch:  14, loss: 55.4959\n",
      "epoch:  15, loss: 51.4099\n",
      "epoch:  16, loss: 47.7062\n",
      "epoch:  17, loss: 44.3185\n",
      "epoch:  18, loss: 41.2012\n",
      "epoch:  19, loss: 38.3219\n",
      "epoch:  20, loss: 35.6557\n",
      "epoch:  21, loss: 33.1832\n",
      "epoch:  22, loss: 30.8880\n",
      "epoch:  23, loss: 28.7560\n",
      "epoch:  24, loss: 26.7748\n",
      "epoch:  25, loss: 24.9334\n",
      "epoch:  26, loss: 23.2216\n",
      "epoch:  27, loss: 21.6301\n",
      "epoch:  28, loss: 20.1503\n",
      "epoch:  29, loss: 18.7744\n",
      "epoch:  30, loss: 17.4950\n",
      "epoch:  31, loss: 16.3054\n",
      "epoch:  32, loss: 15.1992\n",
      "epoch:  33, loss: 14.1705\n",
      "epoch:  34, loss: 13.2140\n",
      "epoch:  35, loss: 12.3245\n",
      "epoch:  36, loss: 11.4973\n",
      "epoch:  37, loss: 10.7282\n",
      "epoch:  38, loss: 10.0129\n",
      "epoch:  39, loss: 9.3477\n",
      "epoch:  40, loss: 8.7292\n",
      "epoch:  41, loss: 8.1540\n",
      "epoch:  42, loss: 7.6190\n",
      "epoch:  43, loss: 7.1216\n",
      "epoch:  44, loss: 6.6590\n",
      "epoch:  45, loss: 6.2287\n",
      "epoch:  46, loss: 5.8286\n",
      "epoch:  47, loss: 5.4565\n",
      "epoch:  48, loss: 5.1105\n",
      "epoch:  49, loss: 4.7886\n",
      "epoch:  50, loss: 4.4893\n",
      "epoch:  51, loss: 4.2109\n",
      "epoch:  52, loss: 3.9519\n",
      "epoch:  53, loss: 3.7111\n",
      "epoch:  54, loss: 3.4871\n",
      "epoch:  55, loss: 3.2787\n",
      "epoch:  56, loss: 3.0849\n",
      "epoch:  57, loss: 2.9046\n",
      "epoch:  58, loss: 2.7369\n",
      "epoch:  59, loss: 2.5809\n",
      "epoch:  60, loss: 2.4358\n",
      "epoch:  61, loss: 2.3008\n",
      "epoch:  62, loss: 2.1752\n",
      "epoch:  63, loss: 2.0584\n",
      "epoch:  64, loss: 1.9496\n",
      "epoch:  65, loss: 1.8485\n",
      "epoch:  66, loss: 1.7543\n",
      "epoch:  67, loss: 1.6667\n",
      "epoch:  68, loss: 1.5852\n",
      "epoch:  69, loss: 1.5094\n",
      "epoch:  70, loss: 1.4388\n",
      "epoch:  71, loss: 1.3730\n",
      "epoch:  72, loss: 1.3119\n",
      "epoch:  73, loss: 1.2549\n",
      "epoch:  74, loss: 1.2019\n",
      "epoch:  75, loss: 1.1525\n",
      "epoch:  76, loss: 1.1065\n",
      "epoch:  77, loss: 1.0637\n",
      "epoch:  78, loss: 1.0239\n",
      "epoch:  79, loss: 0.9867\n",
      "epoch:  80, loss: 0.9521\n",
      "epoch:  81, loss: 0.9199\n",
      "epoch:  82, loss: 0.8898\n",
      "epoch:  83, loss: 0.8618\n",
      "epoch:  84, loss: 0.8357\n",
      "epoch:  85, loss: 0.8114\n",
      "epoch:  86, loss: 0.7887\n",
      "epoch:  87, loss: 0.7675\n",
      "epoch:  88, loss: 0.7478\n",
      "epoch:  89, loss: 0.7293\n",
      "epoch:  90, loss: 0.7121\n",
      "epoch:  91, loss: 0.6961\n",
      "epoch:  92, loss: 0.6811\n",
      "epoch:  93, loss: 0.6671\n",
      "epoch:  94, loss: 0.6540\n",
      "epoch:  95, loss: 0.6418\n",
      "epoch:  96, loss: 0.6303\n",
      "epoch:  97, loss: 0.6196\n",
      "epoch:  98, loss: 0.6096\n",
      "epoch:  99, loss: 0.6002\n",
      "epoch: 100, loss: 0.5914\n"
     ]
    }
   ],
   "source": [
    "# 训练，在这个例子中，尤其要注意学习率的设置，学习率要设置小一点\n",
    "train_loss = []\n",
    "Epochs = 100\n",
    "for epoch in range(Epochs):\n",
    "    y_ = polynomial_model(x_train)\n",
    "    loss = get_loss(y_, y_train)\n",
    "    train_loss.append(loss.data.item())\n",
    "    \n",
    "    W.grad.zero_()\n",
    "    b.grad.zero_()\n",
    "    loss.backward()\n",
    "    \n",
    "    # 更新参数\n",
    "    W.data = W.data - 0.001 * W.grad\n",
    "    b.data = b.data - 0.001 * b.grad\n",
    "    print('epoch: {:3d}, loss: {:.4f}'.format(epoch + 1, loss.data.item()))"
   ]
  },
  {
   "cell_type": "code",
   "execution_count": 34,
   "metadata": {},
   "outputs": [
    {
     "data": {
      "image/png": "[encoded data removed]",
      "text/plain": [
       "<Figure size 432x288 with 1 Axes>"
      ]
     },
     "metadata": {
      "needs_background": "light"
     },
     "output_type": "display_data"
    }
   ],
   "source": [
    "plt.plot(range(1, 100 + 1), train_loss, 'g')\n",
    "plt.xlabel('Epochs')\n",
    "plt.ylabel('Training loss')\n",
    "plt.show()"
   ]
  },
  {
   "cell_type": "code",
   "execution_count": 35,
   "metadata": {},
   "outputs": [
    {
     "data": {
      "image/png": "[encoded data removed]",
      "text/plain": [
       "<Figure size 432x288 with 1 Axes>"
      ]
     },
     "metadata": {
      "needs_background": "light"
     },
     "output_type": "display_data"
    }
   ],
   "source": [
    "y_ = polynomial_model(x_train)\n",
    "plt.plot(x_sample, y_.data.numpy(), 'r', label='fitted curve')\n",
    "plt.plot(x_sample, y_sample, 'b', label='real curve')\n",
    "plt.legend()\n",
    "plt.show()"
   ]
  },
  {
   "cell_type": "code",
   "execution_count": null,
   "metadata": {},
   "outputs": [],
   "source": []
  }
 ],
 "metadata": {
  "kernelspec": {
   "display_name": "Python 3",
   "language": "python",
   "name": "python3"
  },
  "language_info": {
   "codemirror_mode": {
    "name": "ipython",
    "version": 3
   },
   "file_extension": ".py",
   "mimetype": "text/x-python",
   "name": "python",
   "nbconvert_exporter": "python",
   "pygments_lexer": "ipython3",
   "version": "3.7.3"
  }
 },
 "nbformat": 4,
 "nbformat_minor": 2
}
